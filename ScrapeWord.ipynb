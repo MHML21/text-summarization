{
 "cells": [
  {
   "cell_type": "code",
   "execution_count": 1,
   "id": "0f8339a4",
   "metadata": {},
   "outputs": [
    {
     "name": "stdout",
     "output_type": "stream",
     "text": [
      "Hello World!\n"
     ]
    }
   ],
   "source": [
    "print(\"Hello World!\")"
   ]
  },
  {
   "cell_type": "code",
   "execution_count": 2,
   "id": "203af040",
   "metadata": {},
   "outputs": [],
   "source": [
    "import bs4 as bs"
   ]
  },
  {
   "cell_type": "code",
   "execution_count": 3,
   "id": "808f7e3a",
   "metadata": {},
   "outputs": [],
   "source": [
    "import urllib.request"
   ]
  },
  {
   "cell_type": "code",
   "execution_count": 5,
   "id": "4b8af54b",
   "metadata": {},
   "outputs": [],
   "source": [
    "scrape_data = urllib.request.urlopen(\"https://en.wikipedia.org/wiki/Machiavellian_intelligence\")"
   ]
  },
  {
   "cell_type": "code",
   "execution_count": 6,
   "id": "3517db0e",
   "metadata": {},
   "outputs": [],
   "source": [
    "article = scrape_data.read();"
   ]
  },
  {
   "cell_type": "code",
   "execution_count": 7,
   "id": "f3dc7573",
   "metadata": {},
   "outputs": [],
   "source": [
    "parse_article = bs.BeautifulSoup(article, \"lxml\")"
   ]
  },
  {
   "cell_type": "code",
   "execution_count": 9,
   "id": "72625aed",
   "metadata": {},
   "outputs": [],
   "source": [
    "paragraphs = parse_article.find_all('p')\n",
    "article_text = \"\""
   ]
  },
  {
   "cell_type": "code",
   "execution_count": 10,
   "id": "7f5f5d3e",
   "metadata": {},
   "outputs": [
    {
     "name": "stdout",
     "output_type": "stream",
     "text": [
      "<p>In <a href=\"/wiki/Primatology\" title=\"Primatology\">primatology</a>, <b>machiavellian intelligence</b> is the capacity of an organism to be in a successful <a href=\"/wiki/Political_science\" title=\"Political science\">political</a> engagement with <a href=\"/wiki/Social_group\" title=\"Social group\">social groups</a>.<sup class=\"reference\" id=\"cite_ref-1\"><a href=\"#cite_note-1\">[1]</a></sup> The first introduction of this concept came from <a href=\"/wiki/Frans_de_Waal\" title=\"Frans de Waal\">Frans de Waal</a>'s book <i>Chimpanzee Politics</i> (1982), which described social maneuvering while explicitly quoting <a class=\"mw-redirect\" href=\"/wiki/Machiavelli\" title=\"Machiavelli\">Machiavelli</a>.<sup class=\"reference\" id=\"cite_ref-2\"><a href=\"#cite_note-2\">[2]</a></sup>\n",
      "</p>\n",
      "<p>This hypothesis posits that large brains and distinctive cognitive abilities of humans have evolved via intense social competition in which social competitors developed increasingly sophisticated “Machiavellian” strategies as a means to achieve higher social and reproductive success.<sup class=\"reference\" id=\"cite_ref-3\"><a href=\"#cite_note-3\">[3]</a></sup>\n",
      "</p>\n",
      "<p>Machiavellian intelligence may be demonstrated by primate <a href=\"/wiki/Behavior\" title=\"Behavior\">behaviors</a> including:\n",
      "</p>\n",
      "<p>The claim that large brains are linked to large social groups in <a href=\"/wiki/Primate\" title=\"Primate\">primates</a> and <a class=\"mw-redirect\" href=\"/wiki/Cetacean\" title=\"Cetacean\">cetaceans</a>, on which the Machiavellian intelligence hypothesis is based, is criticized by a number of researchers for overlooking the availability of food as a common limiting factor for brain size and social group size.<sup class=\"noprint Inline-Template Template-Fact\" style=\"white-space:nowrap;\">[<i><a href=\"/wiki/Wikipedia:Citation_needed\" title=\"Wikipedia:Citation needed\"><span title=\"This claim needs references to reliable sources. (September 2019)\">citation needed</span></a></i>]</sup> Among primates as well as cetaceans, there are some opportunistic species that eat most types of food and other species that are specialised in particular types of food, as well as differences in the overall availability of food between different geographical regions in which the animals live. Some critics of Machiavellian intelligence argue that species that have to keep their use of nutrients down due to food poverty or specialisation in a rare type of food lowers average brain size for species that live in smaller groups, making big brains falsely appear to be linked to large groups due to the common causes of opportunistic foraging for nutritious food and a rich supply of food. These critics also cite that the \"exceptions\" in the form of small-brained primates in very large groups typically eat abundant but nutrient-poor foods (such as <a href=\"/wiki/Gelada\" title=\"Gelada\">geladas</a> that eat grass), as predicted by the food-based model, and argue that the higher individual need for nutrients put on by large brains causes groups to become smaller if the species have the same degree of digestive specialisation and environmental availability of food.<sup class=\"reference\" id=\"cite_ref-4\"><a href=\"#cite_note-4\">[4]</a></sup><sup class=\"reference\" id=\"cite_ref-5\"><a href=\"#cite_note-5\">[5]</a></sup>\n",
      "</p>\n",
      "<p>The term refers to the hypothesis that the techniques which lead to certain kinds of political <a class=\"extiw\" href=\"https://en.wiktionary.org/wiki/success\" title=\"wikt:success\">success</a> within large <a href=\"/wiki/Social_group\" title=\"Social group\">social groups</a> are also applicable within smaller groups, including the <a href=\"/wiki/Family\" title=\"Family\">family-unit</a>. The term \"everyday politics\" was later introduced in reference to these various methods. These arguments are based on research by primatologists such as <a href=\"/wiki/Nicholas_Humphrey\" title=\"Nicholas Humphrey\">Nicholas Humphrey</a> (1975).\n",
      "</p>\n"
     ]
    }
   ],
   "source": [
    "for p in paragraphs:\n",
    "    print(p)\n",
    "    article_text += p.text"
   ]
  },
  {
   "cell_type": "code",
   "execution_count": null,
   "id": "ccaa1a7e",
   "metadata": {},
   "outputs": [],
   "source": []
  }
 ],
 "metadata": {
  "kernelspec": {
   "display_name": "Python 3",
   "language": "python",
   "name": "python3"
  },
  "language_info": {
   "codemirror_mode": {
    "name": "ipython",
    "version": 3
   },
   "file_extension": ".py",
   "mimetype": "text/x-python",
   "name": "python",
   "nbconvert_exporter": "python",
   "pygments_lexer": "ipython3",
   "version": "3.8.8"
  }
 },
 "nbformat": 4,
 "nbformat_minor": 5
}
