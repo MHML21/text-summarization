{
 "cells": [
  {
   "cell_type": "code",
   "execution_count": 2,
   "metadata": {},
   "outputs": [],
   "source": [
    "# importing the required module\n",
    "import matplotlib.pyplot as plt\n",
    "import numpy as np\n",
    "import pandas as pd"
   ]
  },
  {
   "cell_type": "code",
   "execution_count": 4,
   "metadata": {},
   "outputs": [],
   "source": [
    "def predict(X,theta): \n",
    "    return X*theta[1] + theta[0]"
   ]
  },
  {
   "cell_type": "code",
   "execution_count": 5,
   "metadata": {},
   "outputs": [],
   "source": [
    "def GD(X,Y,L,epoch):\n",
    "    n = len(X)\n",
    "    theta = np.array([0,0], dtype=np.float64)\n",
    "    for j in range(epoch):\n",
    "        Y_pred = predict(X,theta);\n",
    "        sum1 = (1/n) * sum((Y_pred - Y) * 1)\n",
    "        sum2 = (1/n) * sum((Y_pred - Y) * X[1])\n",
    "        theta[0] = theta[0] - (L * sum1)\n",
    "        theta[1] = theta[1] - (L * sum2)\n",
    "    return theta"
   ]
  },
  {
   "cell_type": "code",
   "execution_count": 10,
   "metadata": {},
   "outputs": [
    {
     "name": "stdout",
     "output_type": "stream",
     "text": [
      "[0.01996225 0.99811256]\n"
     ]
    },
    {
     "data": {
      "image/png": "[encoded data removed]",
      "text/plain": [
       "<Figure size 432x288 with 1 Axes>"
      ]
     },
     "metadata": {
      "needs_background": "light"
     },
     "output_type": "display_data"
    }
   ],
   "source": [
    "dataset = pd.read_csv('train.csv') # Import Dataset\n",
    "\n",
    "# x axis values\n",
    "x = np.array(dataset['x'], dtype=np.float64)\n",
    "#x = np.array([0,1,2,3,4,5,6,7,8,9], dtype=np.float64)\n",
    " \n",
    "# corresponding y axis values\n",
    "y = np.array(dataset['y'])\n",
    "#y = np.array([0.4,1.5,2.1,3.43,4.21,5.78,6.457,7.235,8.12,9.875])\n",
    "  \n",
    "# plotting the points \n",
    "plt.scatter(x, y)\n",
    "  \n",
    "# naming the x axis\n",
    "plt.xlabel('x - axis')\n",
    "# naming the y axis\n",
    "plt.ylabel('y - axis')\n",
    "  \n",
    "# giving a title to my graph\n",
    "plt.title('Linear Regression with Gradient Descent')\n",
    "\n",
    "\n",
    "L = 0.0001\n",
    "epoch = 10**3\n",
    "theta = GD(x,y,L,epoch)\n",
    "\n",
    "print(theta)\n",
    "pred_y = theta[1] * x + theta[0]\n",
    "\n",
    "plt.scatter(x,pred_y,color='r')\n",
    "\n",
    "#plt.scatter(x,pred_y,color='g')\n",
    "\n",
    "# function to show the plot\n",
    "plt.show()\n",
    "    "
   ]
  }
 ],
 "metadata": {
  "kernelspec": {
   "display_name": "Python 3",
   "language": "python",
   "name": "python3"
  },
  "language_info": {
   "codemirror_mode": {
    "name": "ipython",
    "version": 3
   },
   "file_extension": ".py",
   "mimetype": "text/x-python",
   "name": "python",
   "nbconvert_exporter": "python",
   "pygments_lexer": "ipython3",
   "version": "3.8.8"
  }
 },
 "nbformat": 4,
 "nbformat_minor": 4
}
